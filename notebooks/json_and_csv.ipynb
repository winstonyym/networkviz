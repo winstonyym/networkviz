{
 "cells": [
  {
   "cell_type": "markdown",
   "metadata": {},
   "source": [
    "### Network data notebook\n",
    "This notebook demonstrates how to load .h5 heterogeneous graph object and save it into .csv / .geojson format on local disk."
   ]
  },
  {
   "cell_type": "code",
   "execution_count": 1,
   "metadata": {},
   "outputs": [],
   "source": [
    "# Import some libraries and dependencies\n",
    "import os\n",
    "import sys\n",
    "import numpy as np\n",
    "import geopandas as gpd\n",
    "\n",
    "sys.path.append('..')\n",
    "\n",
    "from utils.utils import load_from_h5"
   ]
  },
  {
   "cell_type": "markdown",
   "metadata": {},
   "source": [
    "Specify locations to save csvs and geojsons files"
   ]
  },
  {
   "cell_type": "code",
   "execution_count": 4,
   "metadata": {},
   "outputs": [],
   "source": [
    "# Specify data path\n",
    "data_path = '../data/01003010703.h5'\n",
    "csv_path = '../csvs/'\n",
    "geojson_path = '../geojsons/'\n",
    "\n",
    "# Load data\n",
    "objects, connections = load_from_h5(data_path)\n",
    "\n",
    "# Save to network connections to csv\n",
    "for key, value in connections.items():\n",
    "    np.savetxt(os.path.join(csv_path,f'{key}.csv'), value, delimiter=\",\", fmt=\"%d\")\n",
    "\n",
    "# Save to network geospatial objects to geojson\n",
    "for key, value in objects.items():\n",
    "    value.to_file(os.path.join(geojson_path, f'{key}.geojson'))"
   ]
  },
  {
   "cell_type": "markdown",
   "metadata": {},
   "source": [
    "Process should be done and files should be in their respective folders. "
   ]
  }
 ],
 "metadata": {
  "kernelspec": {
   "display_name": "networkviz",
   "language": "python",
   "name": "python3"
  },
  "language_info": {
   "codemirror_mode": {
    "name": "ipython",
    "version": 3
   },
   "file_extension": ".py",
   "mimetype": "text/x-python",
   "name": "python",
   "nbconvert_exporter": "python",
   "pygments_lexer": "ipython3",
   "version": "3.9.19"
  }
 },
 "nbformat": 4,
 "nbformat_minor": 2
}
